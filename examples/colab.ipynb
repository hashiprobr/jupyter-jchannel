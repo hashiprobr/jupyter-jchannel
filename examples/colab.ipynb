{
 "cells": [
  {
   "cell_type": "markdown",
   "id": "d35b6ffd-b64b-446e-bf51-e1e4a87e42ed",
   "metadata": {},
   "source": [
    "# Using jupyter-jchannel in a Colab notebook"
   ]
  },
  {
   "cell_type": "markdown",
   "id": "6602744f-738d-4ace-a6f7-0545b40f0980",
   "metadata": {},
   "source": [
    "## Installing"
   ]
  },
  {
   "cell_type": "markdown",
   "id": "74b94fc5-2660-409c-beee-06427e2011a1",
   "metadata": {},
   "source": [
    "You can use your favorite manager to install the [PyPI package](https://pypi.org/project/jupyter-jchannel/)."
   ]
  },
  {
   "cell_type": "code",
   "execution_count": null,
   "id": "b43be1e1-18b6-4bc1-89c1-b05b53935bd6",
   "metadata": {},
   "outputs": [],
   "source": [
    "!pip install jupyter-jchannel"
   ]
  },
  {
   "cell_type": "markdown",
   "id": "97d0f18d-8d28-41b0-bee1-bc4cfdf532c0",
   "metadata": {},
   "source": [
    "In a remote notebook, you might need aditional resources to setup a tunnel.\n",
    "\n",
    "For this specific example, we need to install the [Cloudflare Daemon](https://developers.cloudflare.com/cloudflare-one/connections/connect-networks/downloads/) to setup a [Cloudflare Tunnel](https://developers.cloudflare.com/cloudflare-one/connections/connect-networks/)."
   ]
  },
  {
   "cell_type": "code",
   "execution_count": null,
   "id": "6743ec40-6554-4035-bdf7-c0c8683cbb90",
   "metadata": {},
   "outputs": [],
   "source": [
    "!wget https://github.com/cloudflare/cloudflared/releases/latest/download/cloudflared-linux-amd64 -O cloudflared\n",
    "!chmod +x cloudflared"
   ]
  },
  {
   "cell_type": "markdown",
   "id": "d07ebe16-dbfa-4c33-a05b-d30f0b83febe",
   "metadata": {},
   "source": [
    "Also, to avoid polluting this notebook, we also install [a simple wrapper module](https://github.com/hashiprobr/jupyter-jchannel/blob/main/examples/cloudflare.py) to encapsulate this daemon."
   ]
  },
  {
   "cell_type": "code",
   "execution_count": null,
   "id": "6e1c91b8-2e17-4f8c-ae60-8b65a79d13e7",
   "metadata": {},
   "outputs": [],
   "source": [
    "!wget https://raw.githubusercontent.com/hashiprobr/jupyter-jchannel/main/examples/cloudflare.py"
   ]
  },
  {
   "cell_type": "markdown",
   "id": "4977f40b-0c43-4561-87dc-2fdae3c40995",
   "metadata": {},
   "source": [
    "## Starting a server"
   ]
  },
  {
   "cell_type": "markdown",
   "id": "27c45659-0e36-4998-9b5b-4e956da1dc8e",
   "metadata": {},
   "source": [
    "For basic usage, you only need to import the `jchannel` module.\n",
    "\n",
    "In this specific example, we also need to import the aforementioned wrapper module."
   ]
  },
  {
   "cell_type": "code",
   "execution_count": null,
   "id": "c5cdf47e-c87f-4420-a6fc-9fc1c69ed03f",
   "metadata": {},
   "outputs": [],
   "source": [
    "import jchannel\n",
    "import cloudflare"
   ]
  },
  {
   "cell_type": "markdown",
   "id": "49d1ee6b-9b51-4967-917a-c95f145ce8b3",
   "metadata": {},
   "source": [
    "A [jchannel Server](https://jupyter-jchannel.readthedocs.io/en/latest/jchannel.server.html#jchannel.server.Server) instance runs alongside a Jupyter server instead of over it. Therefore, it needs its own local address."
   ]
  },
  {
   "cell_type": "code",
   "execution_count": null,
   "id": "e44026c2-0db7-49bb-83d6-dc6e4c77739f",
   "metadata": {},
   "outputs": [],
   "source": [
    "HOST = '127.0.0.1'\n",
    "PORT = 8889"
   ]
  },
  {
   "cell_type": "markdown",
   "id": "539bda2b-75b8-43d7-b5cc-e2aa3c501ab5",
   "metadata": {},
   "source": [
    "First, the `Tunnel` class of the wrapper module encapsulates the Cloudflare Daemon."
   ]
  },
  {
   "cell_type": "code",
   "execution_count": null,
   "id": "e20f4148-6ac8-400d-9eb9-343bdfa11837",
   "metadata": {},
   "outputs": [],
   "source": [
    "tunnel = cloudflare.Tunnel('./cloudflared')"
   ]
  },
  {
   "cell_type": "markdown",
   "id": "ecf28298-4b2c-4a61-957f-aa3939326df9",
   "metadata": {},
   "source": [
    "Then, the `ingress` method runs the tunnel and returns its URL."
   ]
  },
  {
   "cell_type": "code",
   "execution_count": null,
   "id": "5fc358fc-ff0e-4af9-93c6-a04eeb4a6076",
   "metadata": {},
   "outputs": [],
   "source": [
    "url = tunnel.ingress(HOST, PORT)"
   ]
  },
  {
   "cell_type": "markdown",
   "id": "5197b668-8ea7-4a91-9883-21f39c642cea",
   "metadata": {},
   "source": [
    "Finally, the asynchronous [start function](https://jupyter-jchannel.readthedocs.io/en/latest/jchannel.html#jchannel.start) instantiates a server, starts this server and returns it.\n",
    "\n",
    "Notice that this function receives the tunnel URL as an argument."
   ]
  },
  {
   "cell_type": "code",
   "execution_count": null,
   "id": "017f3c4f-cd04-44c0-9c80-f5f59f0630cc",
   "metadata": {
    "editable": true,
    "slideshow": {
     "slide_type": ""
    },
    "tags": []
   },
   "outputs": [],
   "source": [
    "server = await jchannel.start(host=HOST, port=PORT, url=url)"
   ]
  },
  {
   "cell_type": "markdown",
   "id": "f2643fc2-8817-4c17-819b-987830e81cc4",
   "metadata": {},
   "source": [
    "## Opening a channel"
   ]
  },
  {
   "cell_type": "markdown",
   "id": "f8773f7a-b341-485e-ad6e-7790645cd68c",
   "metadata": {},
   "source": [
    "A [server channel](https://jupyter-jchannel.readthedocs.io/en/latest/jchannel.channel.html#jchannel.channel.Channel) uses a server to call frontend JavaScript code from kernel Python code. The asynchronous [open method](https://jupyter-jchannel.readthedocs.io/en/latest/jchannel.server.html#jchannel.server.Server.open) instantiates a channel, opens this channel and returns it.\n",
    "\n",
    "This method receives a string representing a JavaScript function. This function should receive a [client representation of the same channel](https://hashiprobr.github.io/jupyter-jchannel-client/Channel.html) and initialize it. The most important part of this initialization is setting the `handler` property to an object. The methods of this object define the API at the frontend.\n",
    "\n",
    "The example below sets `handler` to an object that wraps the [padStart](https://developer.mozilla.org/docs/Web/JavaScript/Reference/Global_Objects/String/padStart) and [padEnd](https://developer.mozilla.org/docs/Web/JavaScript/Reference/Global_Objects/String/padEnd) string methods to provide indentation utilities."
   ]
  },
  {
   "cell_type": "code",
   "execution_count": null,
   "id": "cbb35f25-3a2f-4c63-9413-0dfef99da49e",
   "metadata": {},
   "outputs": [],
   "source": [
    "channel = await server.open('''\n",
    "    (channel) => {\n",
    "        channel.handler = {\n",
    "            indentLeft(line, count) {\n",
    "                return line.padStart(line.length + count);\n",
    "            },\n",
    "            indentRight(line, count) {\n",
    "                return line.padEnd(line.length + count);\n",
    "            },\n",
    "        };\n",
    "    }\n",
    "''')"
   ]
  },
  {
   "cell_type": "markdown",
   "id": "00c72ae1-ecb0-469d-b239-1771f0b7683a",
   "metadata": {},
   "source": [
    "And that's it! You can now call any method of the API from the notebook."
   ]
  },
  {
   "cell_type": "markdown",
   "id": "5d709d9f-8913-467a-97cd-a0aa9e73ad4a",
   "metadata": {},
   "source": [
    "## Calling the methods"
   ]
  },
  {
   "cell_type": "markdown",
   "id": "d08c9371-12d6-4cfc-8601-b6289efdc4ab",
   "metadata": {},
   "source": [
    "The [call method](https://jupyter-jchannel.readthedocs.io/en/latest/jchannel.channel.html#jchannel.channel.Channel.call) returns a [task](https://docs.python.org/3/library/asyncio-task.html#asyncio.Task) that can be awaited to retrieve the result whenever you want."
   ]
  },
  {
   "cell_type": "code",
   "execution_count": null,
   "id": "af796de7-4cb2-444d-bd6e-20f7eec2589d",
   "metadata": {},
   "outputs": [],
   "source": [
    "task1 = channel.call('indentLeft', 'hello', 4)\n",
    "task2 = channel.call('indentRight', 'world', 4)"
   ]
  },
  {
   "cell_type": "code",
   "execution_count": null,
   "id": "b9b68b3b-99d5-4562-a38d-c09f36f5a830",
   "metadata": {},
   "outputs": [],
   "source": [
    "# some code you want to run before retrieving the results"
   ]
  },
  {
   "cell_type": "code",
   "execution_count": null,
   "id": "a9f968e6-4a28-49f8-a33e-08951559b41a",
   "metadata": {},
   "outputs": [],
   "source": [
    "await task2"
   ]
  },
  {
   "cell_type": "code",
   "execution_count": null,
   "id": "743c83fd-8601-439e-a9d7-a04f2f0a41c3",
   "metadata": {},
   "outputs": [],
   "source": [
    "await task1"
   ]
  },
  {
   "cell_type": "markdown",
   "id": "d4c90ff0-0b17-423f-bf9c-d75fd7b8194b",
   "metadata": {},
   "source": [
    "In particular, awaiting immediately ensures synchronous execution, without the\n",
    "need for sleeping and/or polling."
   ]
  },
  {
   "cell_type": "code",
   "execution_count": null,
   "id": "63461fe4-0606-4ba2-83d1-0bae57e1cc1a",
   "metadata": {},
   "outputs": [],
   "source": [
    "await channel.call('indentLeft', 'hello', 4)"
   ]
  },
  {
   "cell_type": "markdown",
   "id": "99e1a828-9229-49fe-9b83-5e7f0a93b08b",
   "metadata": {},
   "source": [
    "Furthermore, if the frontend throws a JavaScript exception, the task wraps it into a Python exception."
   ]
  },
  {
   "cell_type": "code",
   "execution_count": null,
   "id": "731b3877-8dfc-45a2-a6c9-48a801b33c81",
   "metadata": {},
   "outputs": [],
   "source": [
    "await channel.call('indentRight', 4, 'world') # arguments in wrong order"
   ]
  }
 ],
 "metadata": {
  "kernelspec": {
   "display_name": "Python 3 (ipykernel)",
   "language": "python",
   "name": "python3"
  },
  "language_info": {
   "codemirror_mode": {
    "name": "ipython",
    "version": 3
   },
   "file_extension": ".py",
   "mimetype": "text/x-python",
   "name": "python",
   "nbconvert_exporter": "python",
   "pygments_lexer": "ipython3",
   "version": "3.10.14"
  },
  "widgets": {
   "application/vnd.jupyter.widget-state+json": {
    "state": {},
    "version_major": 2,
    "version_minor": 0
   }
  }
 },
 "nbformat": 4,
 "nbformat_minor": 5
}
