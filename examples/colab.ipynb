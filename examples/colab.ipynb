{
 "cells": [
  {
   "cell_type": "markdown",
   "id": "d35b6ffd-b64b-446e-bf51-e1e4a87e42ed",
   "metadata": {},
   "source": [
    "# Using jupyter-jchannel in a Colab notebook"
   ]
  },
  {
   "cell_type": "code",
   "execution_count": null,
   "id": "b43be1e1-18b6-4bc1-89c1-b05b53935bd6",
   "metadata": {},
   "outputs": [],
   "source": [
    "!pip install jupyter-jchannel ngrok"
   ]
  },
  {
   "cell_type": "code",
   "execution_count": null,
   "id": "c5cdf47e-c87f-4420-a6fc-9fc1c69ed03f",
   "metadata": {},
   "outputs": [],
   "source": [
    "import os\n",
    "import ngrok\n",
    "import jchannel"
   ]
  },
  {
   "cell_type": "code",
   "execution_count": null,
   "id": "dae00d9f-556a-46b0-b4ed-154bab0333bb",
   "metadata": {},
   "outputs": [],
   "source": [
    "os.environ['NGROK_AUTHTOKEN'] = 'YOUR_NGROK_AUTHTOKEN'"
   ]
  },
  {
   "cell_type": "code",
   "execution_count": null,
   "id": "e44026c2-0db7-49bb-83d6-dc6e4c77739f",
   "metadata": {},
   "outputs": [],
   "source": [
    "HOST = '127.0.0.1'\n",
    "PORT = 8889"
   ]
  },
  {
   "cell_type": "code",
   "execution_count": null,
   "id": "e20f4148-6ac8-400d-9eb9-343bdfa11837",
   "metadata": {},
   "outputs": [],
   "source": [
    "listener = await ngrok.forward(addr=PORT, authtoken_from_env=True)\n",
    "\n",
    "url = listener.url()\n",
    "\n",
    "print(url)"
   ]
  },
  {
   "cell_type": "code",
   "execution_count": null,
   "id": "017f3c4f-cd04-44c0-9c80-f5f59f0630cc",
   "metadata": {
    "editable": true,
    "slideshow": {
     "slide_type": ""
    },
    "tags": []
   },
   "outputs": [],
   "source": [
    "server = await jchannel.start(host=HOST, port=PORT, url=url)"
   ]
  },
  {
   "cell_type": "code",
   "execution_count": null,
   "id": "cbb35f25-3a2f-4c63-9413-0dfef99da49e",
   "metadata": {},
   "outputs": [],
   "source": [
    "channel = await server.open('''\n",
    "    (channel) => {\n",
    "        channel.handler = {\n",
    "            indent(line, count) {\n",
    "                return line.padStart(line.length + count);\n",
    "            }\n",
    "        };\n",
    "    }\n",
    "''')"
   ]
  },
  {
   "cell_type": "code",
   "execution_count": null,
   "id": "e8b41e70-a920-4992-b2d5-5c12f43fb8ef",
   "metadata": {},
   "outputs": [],
   "source": [
    "await channel.call('indent', 'return', 4)"
   ]
  },
  {
   "cell_type": "code",
   "execution_count": null,
   "id": "bf453d52-c679-45a2-a63b-5b90486906da",
   "metadata": {},
   "outputs": [],
   "source": [
    "await channel.call('indent', 4, 'return')"
   ]
  }
 ],
 "metadata": {
  "kernelspec": {
   "display_name": "Python 3 (ipykernel)",
   "language": "python",
   "name": "python3"
  },
  "language_info": {
   "codemirror_mode": {
    "name": "ipython",
    "version": 3
   },
   "file_extension": ".py",
   "mimetype": "text/x-python",
   "name": "python",
   "nbconvert_exporter": "python",
   "pygments_lexer": "ipython3",
   "version": "3.10.14"
  },
  "widgets": {
   "application/vnd.jupyter.widget-state+json": {
    "state": {},
    "version_major": 2,
    "version_minor": 0
   }
  }
 },
 "nbformat": 4,
 "nbformat_minor": 5
}
