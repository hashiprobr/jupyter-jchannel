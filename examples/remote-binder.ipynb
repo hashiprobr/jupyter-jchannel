{
 "cells": [
  {
   "cell_type": "markdown",
   "id": "7febb873-c079-42d0-9443-30e5763edf51",
   "metadata": {},
   "source": [
    "# Using jupyter-jchannel in a Binder notebook"
   ]
  },
  {
   "cell_type": "markdown",
   "id": "ceb9c129-20b4-4f84-ae0f-9efaef472822",
   "metadata": {},
   "source": [
    "## Installing"
   ]
  },
  {
   "cell_type": "markdown",
   "id": "7d462822-b51f-4083-ad01-a18aaf2ea910",
   "metadata": {},
   "source": [
    "You can use your favorite manager to install the [PyPI package](https://pypi.org/project/jupyter-jchannel/)."
   ]
  },
  {
   "cell_type": "markdown",
   "id": "7adccd4e-c6d7-4c33-883d-7fbcc01923c4",
   "metadata": {},
   "source": [
    "```\n",
    "pip install jupyter-jchannel\n",
    "```"
   ]
  },
  {
   "cell_type": "markdown",
   "id": "90107e04-02ea-4d3d-a737-4262e305ec1a",
   "metadata": {},
   "source": [
    "In a remote notebook, you might need aditional resources to setup a tunnel.\n",
    "\n",
    "For this specific example, we need to install the [Cloudflare Daemon](https://developers.cloudflare.com/cloudflare-one/connections/connect-networks/downloads/) to setup a [Cloudflare Tunnel](https://developers.cloudflare.com/cloudflare-one/connections/connect-networks/)."
   ]
  },
  {
   "cell_type": "code",
   "execution_count": null,
   "id": "91556592-c08c-4fc2-ae44-5a9ef5755b7e",
   "metadata": {},
   "outputs": [],
   "source": [
    "!wget https://github.com/cloudflare/cloudflared/releases/latest/download/cloudflared-linux-amd64 -O cloudfared\n",
    "!chmod +x cloudfared"
   ]
  },
  {
   "cell_type": "markdown",
   "id": "e1456f3d-da98-4980-ba09-1db5a972e60b",
   "metadata": {},
   "source": [
    "Also, to avoid polluting this notebook, we also install [a simple wrapper module](https://github.com/hashiprobr/jupyter-jchannel/blob/main/examples/cloudflare.py) to encapsulate this daemon."
   ]
  },
  {
   "cell_type": "code",
   "execution_count": null,
   "id": "8396a255-2beb-4cc9-bb49-7fba384efae4",
   "metadata": {},
   "outputs": [],
   "source": [
    "!wget https://raw.githubusercontent.com/hashiprobr/jupyter-jchannel/main/examples/cloudflare.py"
   ]
  },
  {
   "cell_type": "markdown",
   "id": "2170f8de-588d-4c98-a105-46507ca7a261",
   "metadata": {},
   "source": [
    "## Starting a server"
   ]
  },
  {
   "cell_type": "markdown",
   "id": "5f3b4c58-5b43-468d-b5de-e2f8160c28e0",
   "metadata": {},
   "source": [
    "For basic usage, you only need to import the `jchannel` module.\n",
    "\n",
    "In this specific example, we also need to import the aforementioned wrapper module."
   ]
  },
  {
   "cell_type": "code",
   "execution_count": null,
   "id": "c5cdf47e-c87f-4420-a6fc-9fc1c69ed03f",
   "metadata": {},
   "outputs": [],
   "source": [
    "import jchannel\n",
    "import cloudflare"
   ]
  },
  {
   "cell_type": "markdown",
   "id": "17a797a6-a0aa-40b5-819e-885681a8312f",
   "metadata": {},
   "source": [
    "A [jchannel Server](https://jupyter-jchannel.readthedocs.io/en/latest/jchannel.server.html#jchannel.server.Server) instance runs *alongside* a Jupyter server instead of *over* it. Therefore, it needs its own local address."
   ]
  },
  {
   "cell_type": "code",
   "execution_count": null,
   "id": "e44026c2-0db7-49bb-83d6-dc6e4c77739f",
   "metadata": {},
   "outputs": [],
   "source": [
    "HOST = '127.0.0.1'\n",
    "PORT = 8889"
   ]
  },
  {
   "cell_type": "markdown",
   "id": "d21305c1-f49a-4cef-9dcb-38807aed2360",
   "metadata": {},
   "source": [
    "First, the `Tunnel` class of the wrapper module encapsulates the Cloudflare Daemon."
   ]
  },
  {
   "cell_type": "code",
   "execution_count": null,
   "id": "e20f4148-6ac8-400d-9eb9-343bdfa11837",
   "metadata": {},
   "outputs": [],
   "source": [
    "tunnel = cloudflare.Tunnel('./cloudfared')"
   ]
  },
  {
   "cell_type": "markdown",
   "id": "10c881fd-460c-419b-a808-0b81d867d95e",
   "metadata": {},
   "source": [
    "Then, the `ingress` method runs the tunnel and returns its URL."
   ]
  },
  {
   "cell_type": "code",
   "execution_count": null,
   "id": "0f24034b-5146-4b3b-a21e-35c04001bc5e",
   "metadata": {},
   "outputs": [],
   "source": [
    "url = tunnel.ingress(HOST, PORT)"
   ]
  },
  {
   "cell_type": "markdown",
   "id": "9c2c54e3-3dc9-484f-85f4-0489a4b74994",
   "metadata": {},
   "source": [
    "Finally, the asynchronous [start function](https://jupyter-jchannel.readthedocs.io/en/latest/jchannel.html#jchannel.start) instantiates a server, starts this server and returns it.\n",
    "\n",
    "Notice that this function receives the tunnel URL as an argument."
   ]
  },
  {
   "cell_type": "code",
   "execution_count": null,
   "id": "017f3c4f-cd04-44c0-9c80-f5f59f0630cc",
   "metadata": {
    "editable": true,
    "slideshow": {
     "slide_type": ""
    },
    "tags": []
   },
   "outputs": [],
   "source": [
    "server = await jchannel.start(host=HOST, port=PORT, url=url)"
   ]
  },
  {
   "cell_type": "markdown",
   "id": "d04bcdda-7b0b-4f36-9bc7-72d1e1baebbd",
   "metadata": {},
   "source": [
    "## Opening a channel"
   ]
  },
  {
   "cell_type": "markdown",
   "id": "faabe269-5aaf-43a0-81c8-4624c53d5c34",
   "metadata": {},
   "source": [
    "A [server channel](https://jupyter-jchannel.readthedocs.io/en/latest/jchannel.channel.html#jchannel.channel.Channel) uses a server to call frontend JavaScript code from kernel Python code. The asynchronous [open method](https://jupyter-jchannel.readthedocs.io/en/latest/jchannel.server.html#jchannel.server.Server.open) instantiates a channel, opens this channel and returns it.\n",
    "\n",
    "This method receives a string representing a JavaScript function. This function should receive a [client representation of the same channel](https://hashiprobr.github.io/jupyter-jchannel-client/Channel.html) and initialize it. The most important part of this initialization is setting the `handler` property to an object. The methods of this object define the API at the frontend.\n",
    "\n",
    "The example below sets `handler` to an object with a single method called `indent`. This method uses the JavaScript [padStart method](https://developer.mozilla.org/en-US/docs/Web/JavaScript/Reference/Global_Objects/String/padStart) to add blank spaces at the beginning of a string."
   ]
  },
  {
   "cell_type": "code",
   "execution_count": null,
   "id": "cbb35f25-3a2f-4c63-9413-0dfef99da49e",
   "metadata": {},
   "outputs": [],
   "source": [
    "channel = await server.open('''\n",
    "    (channel) => {\n",
    "        channel.handler = {\n",
    "            indent(line, count) {\n",
    "                return line.padStart(line.length + count);\n",
    "            }\n",
    "        };\n",
    "    }\n",
    "''')"
   ]
  },
  {
   "cell_type": "markdown",
   "id": "8a9e48ee-6038-4fba-8492-95c09f545057",
   "metadata": {},
   "source": [
    "And that's it! You can now call any method of the API from the notebook.\n",
    "\n",
    "The `call` method returns an `asyncio.Task` that can be awaited for the result.\n",
    "\n",
    "Arguments and return values can have any types that are JSON-serializable."
   ]
  },
  {
   "cell_type": "code",
   "execution_count": null,
   "id": "e8b41e70-a920-4992-b2d5-5c12f43fb8ef",
   "metadata": {},
   "outputs": [],
   "source": [
    "await channel.call('indent', 'return', 4)"
   ]
  },
  {
   "cell_type": "markdown",
   "id": "19def70d-4ccb-4f09-8dd0-cd70d01ff33b",
   "metadata": {},
   "source": [
    "If the JavaScript method throws an exception, it is wrapped in a Python exception."
   ]
  },
  {
   "cell_type": "code",
   "execution_count": null,
   "id": "bf453d52-c679-45a2-a63b-5b90486906da",
   "metadata": {},
   "outputs": [],
   "source": [
    "await channel.call('indent', 4, 'return')"
   ]
  }
 ],
 "metadata": {
  "kernelspec": {
   "display_name": "Python 3 (ipykernel)",
   "language": "python",
   "name": "python3"
  },
  "language_info": {
   "codemirror_mode": {
    "name": "ipython",
    "version": 3
   },
   "file_extension": ".py",
   "mimetype": "text/x-python",
   "name": "python",
   "nbconvert_exporter": "python",
   "pygments_lexer": "ipython3",
   "version": "3.10.14"
  },
  "widgets": {
   "application/vnd.jupyter.widget-state+json": {
    "state": {},
    "version_major": 2,
    "version_minor": 0
   }
  }
 },
 "nbformat": 4,
 "nbformat_minor": 5
}
