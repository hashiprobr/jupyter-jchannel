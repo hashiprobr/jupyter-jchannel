{
 "cells": [
  {
   "cell_type": "markdown",
   "id": "67aa2289-f8fb-4844-a905-5a407944ee1a",
   "metadata": {},
   "source": [
    "# Using jupyter-jchannel in a local notebook"
   ]
  },
  {
   "cell_type": "markdown",
   "id": "b3decbf9-b021-4f81-9313-34925248dbc5",
   "metadata": {},
   "source": [
    "For basic usage, you only need to import the `jchannel` module."
   ]
  },
  {
   "cell_type": "code",
   "execution_count": 1,
   "id": "c5cdf47e-c87f-4420-a6fc-9fc1c69ed03f",
   "metadata": {},
   "outputs": [],
   "source": [
    "import jchannel"
   ]
  },
  {
   "cell_type": "markdown",
   "id": "29943f9d-1977-4006-81b9-958846fb4f4c",
   "metadata": {},
   "source": [
    "A [jchannel Server](https://jupyter-jchannel.readthedocs.io/en/latest/jchannel.server.html#jchannel.server.Server) instance runs *alongside* a Jupyter server instead of *over* it. Therefore, it needs its own local address."
   ]
  },
  {
   "cell_type": "code",
   "execution_count": 2,
   "id": "9205dda6-dd4b-477e-a4ce-dd8eb66e70de",
   "metadata": {},
   "outputs": [],
   "source": [
    "HOST = '127.0.0.1'\n",
    "PORT = 8889"
   ]
  },
  {
   "cell_type": "markdown",
   "id": "bfa045eb-3306-46a8-abec-9640a02622ce",
   "metadata": {},
   "source": [
    "The asynchronous [start function](https://jupyter-jchannel.readthedocs.io/en/latest/jchannel.html#jchannel.start) instantiates a server, starts this server and returns it."
   ]
  },
  {
   "cell_type": "code",
   "execution_count": null,
   "id": "017f3c4f-cd04-44c0-9c80-f5f59f0630cc",
   "metadata": {
    "editable": true,
    "slideshow": {
     "slide_type": ""
    },
    "tags": []
   },
   "outputs": [],
   "source": [
    "server = await jchannel.start(host=HOST, port=PORT)"
   ]
  },
  {
   "cell_type": "markdown",
   "id": "017ee1fe-1e92-4a32-bdae-417843b77b8b",
   "metadata": {},
   "source": [
    "A [server channel](https://jupyter-jchannel.readthedocs.io/en/latest/jchannel.channel.html#jchannel.channel.Channel) uses a server to call frontend JavaScript code from kernel Python code. The asynchronous [open method](https://jupyter-jchannel.readthedocs.io/en/latest/jchannel.server.html#jchannel.server.Server.open) instantiates a channel, opens this channel and returns it.\n",
    "\n",
    "This method receives a string representing a JavaScript function. This function should receive a [client representation of the same channel](https://hashiprobr.github.io/jupyter-jchannel-client/Channel.html) and initialize it. The most important part of this initialization is setting the `handler` property to an object. The methods of this object define the API at the frontend.\n",
    "\n",
    "The example below sets `handler` to an object with a single method called `indent`. This method uses the JavaScript [padStart method](https://developer.mozilla.org/en-US/docs/Web/JavaScript/Reference/Global_Objects/String/padStart) to add blank spaces at the beginning of a string."
   ]
  },
  {
   "cell_type": "code",
   "execution_count": 4,
   "id": "cbb35f25-3a2f-4c63-9413-0dfef99da49e",
   "metadata": {},
   "outputs": [],
   "source": [
    "channel = await server.open('''\n",
    "    (channel) => {\n",
    "        channel.handler = {\n",
    "            indent(line, count) {\n",
    "                return line.padStart(line.length + count);\n",
    "            }\n",
    "        };\n",
    "    }\n",
    "''')"
   ]
  },
  {
   "cell_type": "markdown",
   "id": "10a89f70-134e-43a5-8eaa-a018b44afcb6",
   "metadata": {},
   "source": [
    "And that's it! You can now call any method of the API from the notebook.\n",
    "\n",
    "The `call` method returns an `asyncio.Task` that can be awaited for the result.\n",
    "\n",
    "Arguments and return values can have any types that are JSON-serializable."
   ]
  },
  {
   "cell_type": "code",
   "execution_count": 5,
   "id": "e8b41e70-a920-4992-b2d5-5c12f43fb8ef",
   "metadata": {},
   "outputs": [
    {
     "data": {
      "text/plain": [
       "'    return'"
      ]
     },
     "execution_count": 5,
     "metadata": {},
     "output_type": "execute_result"
    }
   ],
   "source": [
    "await channel.call('indent', 'return', 4)"
   ]
  },
  {
   "cell_type": "markdown",
   "id": "906e9fde-9de5-4467-8870-367cc1355564",
   "metadata": {},
   "source": [
    "If the JavaScript method throws an exception, it is wrapped in a Python exception."
   ]
  },
  {
   "cell_type": "code",
   "execution_count": 6,
   "id": "bf453d52-c679-45a2-a63b-5b90486906da",
   "metadata": {},
   "outputs": [
    {
     "ename": "JavascriptError",
     "evalue": "TypeError: line.padStart is not a function",
     "output_type": "error",
     "traceback": [
      "\u001b[0;31m---------------------------------------------------------------------------\u001b[0m",
      "\u001b[0;31mJavascriptError\u001b[0m                           Traceback (most recent call last)",
      "Cell \u001b[0;32mIn[6], line 1\u001b[0m\n\u001b[0;32m----> 1\u001b[0m \u001b[38;5;28;01mawait\u001b[39;00m channel\u001b[38;5;241m.\u001b[39mcall(\u001b[38;5;124m'\u001b[39m\u001b[38;5;124mindent\u001b[39m\u001b[38;5;124m'\u001b[39m, \u001b[38;5;241m4\u001b[39m, \u001b[38;5;124m'\u001b[39m\u001b[38;5;124mreturn\u001b[39m\u001b[38;5;124m'\u001b[39m)\n",
      "File \u001b[0;32m~/Dropbox/Projetos/jupyter/jchannel/jchannel/channel.py:171\u001b[0m, in \u001b[0;36mChannel._call\u001b[0;34m(self, name, args, timeout)\u001b[0m\n\u001b[1;32m    170\u001b[0m \u001b[38;5;28;01masync\u001b[39;00m \u001b[38;5;28;01mdef\u001b[39;00m \u001b[38;5;21m_call\u001b[39m(\u001b[38;5;28mself\u001b[39m, name, args, timeout):\n\u001b[0;32m--> 171\u001b[0m     \u001b[38;5;28;01mreturn\u001b[39;00m \u001b[38;5;28;01mawait\u001b[39;00m \u001b[38;5;28mself\u001b[39m\u001b[38;5;241m.\u001b[39m_send(\u001b[38;5;124m'\u001b[39m\u001b[38;5;124mcall\u001b[39m\u001b[38;5;124m'\u001b[39m, {\u001b[38;5;124m'\u001b[39m\u001b[38;5;124mname\u001b[39m\u001b[38;5;124m'\u001b[39m: name, \u001b[38;5;124m'\u001b[39m\u001b[38;5;124margs\u001b[39m\u001b[38;5;124m'\u001b[39m: args}, \u001b[38;5;28;01mNone\u001b[39;00m, timeout)\n",
      "File \u001b[0;32m~/Dropbox/Projetos/jupyter/jchannel/jchannel/channel.py:180\u001b[0m, in \u001b[0;36mChannel._send\u001b[0;34m(self, body_type, input, stream, timeout)\u001b[0m\n\u001b[1;32m    177\u001b[0m future \u001b[38;5;241m=\u001b[39m \u001b[38;5;28;01mawait\u001b[39;00m \u001b[38;5;28mself\u001b[39m\u001b[38;5;241m.\u001b[39m_server\u001b[38;5;241m.\u001b[39m_send(body_type, \u001b[38;5;28mid\u001b[39m(\u001b[38;5;28mself\u001b[39m), \u001b[38;5;28minput\u001b[39m, stream, timeout)\n\u001b[1;32m    179\u001b[0m \u001b[38;5;28;01mtry\u001b[39;00m:\n\u001b[0;32m--> 180\u001b[0m     \u001b[38;5;28;01mreturn\u001b[39;00m \u001b[38;5;28;01mawait\u001b[39;00m future\n\u001b[1;32m    181\u001b[0m \u001b[38;5;28;01mexcept\u001b[39;00m StateError:\n\u001b[1;32m    182\u001b[0m     logging\u001b[38;5;241m.\u001b[39mwarning(\u001b[38;5;124m'\u001b[39m\u001b[38;5;124mChannel is closed: trying to open...\u001b[39m\u001b[38;5;124m'\u001b[39m)\n",
      "\u001b[0;31mJavascriptError\u001b[0m: TypeError: line.padStart is not a function"
     ]
    }
   ],
   "source": [
    "await channel.call('indent', 4, 'return')"
   ]
  },
  {
   "cell_type": "markdown",
   "id": "cf5c8070-fb1a-4175-b6b0-8d037b356811",
   "metadata": {},
   "source": [
    "Calling kernel code from frontend code is even simpler, as seen in [this tutorial](local-frontend.ipynb)."
   ]
  }
 ],
 "metadata": {
  "kernelspec": {
   "display_name": "Python 3 (ipykernel)",
   "language": "python",
   "name": "python3"
  },
  "language_info": {
   "codemirror_mode": {
    "name": "ipython",
    "version": 3
   },
   "file_extension": ".py",
   "mimetype": "text/x-python",
   "name": "python",
   "nbconvert_exporter": "python",
   "pygments_lexer": "ipython3",
   "version": "3.10.14"
  },
  "widgets": {
   "application/vnd.jupyter.widget-state+json": {
    "state": {},
    "version_major": 2,
    "version_minor": 0
   }
  }
 },
 "nbformat": 4,
 "nbformat_minor": 5
}
