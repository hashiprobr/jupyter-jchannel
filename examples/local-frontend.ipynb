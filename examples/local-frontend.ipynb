{
 "cells": [
  {
   "cell_type": "markdown",
   "id": "67aa2289-f8fb-4844-a905-5a407944ee1a",
   "metadata": {},
   "source": [
    "# Calling kernel code from frontend code"
   ]
  },
  {
   "cell_type": "markdown",
   "id": "b3decbf9-b021-4f81-9313-34925248dbc5",
   "metadata": {},
   "source": [
    "First, we instantiate and start a server, as defined in the [tutorial for local notebooks](local-kernel.ipynb)."
   ]
  },
  {
   "cell_type": "code",
   "execution_count": null,
   "id": "c5cdf47e-c87f-4420-a6fc-9fc1c69ed03f",
   "metadata": {},
   "outputs": [],
   "source": [
    "import jchannel"
   ]
  },
  {
   "cell_type": "code",
   "execution_count": null,
   "id": "9205dda6-dd4b-477e-a4ce-dd8eb66e70de",
   "metadata": {},
   "outputs": [],
   "source": [
    "HOST = '127.0.0.1'\n",
    "PORT = 8889"
   ]
  },
  {
   "cell_type": "code",
   "execution_count": null,
   "id": "017f3c4f-cd04-44c0-9c80-f5f59f0630cc",
   "metadata": {
    "editable": true,
    "slideshow": {
     "slide_type": ""
    },
    "tags": []
   },
   "outputs": [],
   "source": [
    "server = await jchannel.start(host=HOST, port=PORT)"
   ]
  },
  {
   "cell_type": "markdown",
   "id": "017ee1fe-1e92-4a32-bdae-417843b77b8b",
   "metadata": {},
   "source": [
    "Then, we instantiate and open a channel, but with a different initialization function. The most important part is storing the [client representation of the Channel](https://hashiprobr.github.io/jupyter-jchannel-client/Channel.html) in order to retrieve it later.\n",
    "\n",
    "The example below simply stores this representation in a global variable."
   ]
  },
  {
   "cell_type": "code",
   "execution_count": null,
   "id": "cbb35f25-3a2f-4c63-9413-0dfef99da49e",
   "metadata": {},
   "outputs": [],
   "source": [
    "channel = await server.open('''\n",
    "    (channel) => {\n",
    "        self.channel = channel;\n",
    "    }\n",
    "''')"
   ]
  },
  {
   "cell_type": "markdown",
   "id": "ccfb7f14-b888-4495-b826-c3fa800de8ac",
   "metadata": {},
   "source": [
    "Finally, we set the `handler` property of the channel to an object. The methods of this object define the API at the kernel.\n",
    "\n",
    "The example below sets `handler` to an object with a single method called `divide`. This method simply divides the first argument by the second argument."
   ]
  },
  {
   "cell_type": "code",
   "execution_count": null,
   "id": "fb4a4eb2-12b0-4484-9dfc-503c5d64b13e",
   "metadata": {},
   "outputs": [],
   "source": [
    "class Handler:\n",
    "    def divide(self, a, b):\n",
    "        return a / b\n",
    "\n",
    "channel.handler = Handler()"
   ]
  },
  {
   "cell_type": "markdown",
   "id": "10a89f70-134e-43a5-8eaa-a018b44afcb6",
   "metadata": {},
   "source": [
    "And that's it! You can now call any method of the API from the console.\n",
    "\n",
    "The `call` method returns a `Promise` that can be awaited for the result.\n",
    "\n",
    "Arguments and return values can have any types that are JSON-serializable."
   ]
  },
  {
   "cell_type": "markdown",
   "id": "e614314f-d002-4368-bd79-cbe9172410d8",
   "metadata": {},
   "source": [
    "``` js\n",
    "await channel.call('divide', 1, 2);\n",
    "```"
   ]
  },
  {
   "cell_type": "markdown",
   "id": "65a6e1ba-78dd-4b05-be88-26dd77d5602a",
   "metadata": {},
   "source": [
    "```\n",
    "0.5\n",
    "```"
   ]
  },
  {
   "cell_type": "markdown",
   "id": "906e9fde-9de5-4467-8870-367cc1355564",
   "metadata": {},
   "source": [
    "If the Python method throws an exception, it is wrapped in a JavaScript exception."
   ]
  },
  {
   "cell_type": "markdown",
   "id": "9098f2b3-f995-4d8a-bae2-d4a4ab122786",
   "metadata": {},
   "source": [
    "``` js\n",
    "await channel.call('divide', 1, 0);\n",
    "```"
   ]
  },
  {
   "cell_type": "markdown",
   "id": "494d0f22-eac7-4321-a2a0-4eee615c8b33",
   "metadata": {},
   "source": [
    "```\n",
    "Uncaught KernelError: ZeroDivisionError: division by zero\n",
    "```"
   ]
  }
 ],
 "metadata": {
  "kernelspec": {
   "display_name": "Python 3 (ipykernel)",
   "language": "python",
   "name": "python3"
  },
  "language_info": {
   "codemirror_mode": {
    "name": "ipython",
    "version": 3
   },
   "file_extension": ".py",
   "mimetype": "text/x-python",
   "name": "python",
   "nbconvert_exporter": "python",
   "pygments_lexer": "ipython3",
   "version": "3.10.14"
  },
  "widgets": {
   "application/vnd.jupyter.widget-state+json": {
    "state": {},
    "version_major": 2,
    "version_minor": 0
   }
  }
 },
 "nbformat": 4,
 "nbformat_minor": 5
}
