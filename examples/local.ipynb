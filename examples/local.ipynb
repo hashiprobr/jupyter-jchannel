{
 "cells": [
  {
   "cell_type": "markdown",
   "id": "67aa2289-f8fb-4844-a905-5a407944ee1a",
   "metadata": {},
   "source": [
    "# Using jupyter-jchannel in a local notebook"
   ]
  },
  {
   "cell_type": "markdown",
   "id": "d9459be4-2600-4e37-b61e-77606f277ed5",
   "metadata": {},
   "source": [
    "## Installing"
   ]
  },
  {
   "cell_type": "markdown",
   "id": "4196fa5d-681d-4d59-842d-974a00f179cc",
   "metadata": {},
   "source": [
    "You can use your favorite manager to install the [PyPI package](https://pypi.org/project/jupyter-jchannel/)."
   ]
  },
  {
   "cell_type": "markdown",
   "id": "0577f6b4-35c0-464f-8db1-d2746a4c6c2b",
   "metadata": {},
   "source": [
    "```\n",
    "pip install jupyter-jchannel\n",
    "```"
   ]
  },
  {
   "cell_type": "markdown",
   "id": "219eb6f3-a219-478f-a6ca-48bd423343fe",
   "metadata": {},
   "source": [
    "## Starting a server"
   ]
  },
  {
   "cell_type": "markdown",
   "id": "b3decbf9-b021-4f81-9313-34925248dbc5",
   "metadata": {},
   "source": [
    "For basic usage, you only need to import the `jchannel` module."
   ]
  },
  {
   "cell_type": "code",
   "execution_count": 1,
   "id": "c5cdf47e-c87f-4420-a6fc-9fc1c69ed03f",
   "metadata": {},
   "outputs": [],
   "source": [
    "import jchannel"
   ]
  },
  {
   "cell_type": "markdown",
   "id": "29943f9d-1977-4006-81b9-958846fb4f4c",
   "metadata": {},
   "source": [
    "A [jchannel Server](https://jupyter-jchannel.readthedocs.io/en/latest/jchannel.server.html#jchannel.server.Server) instance runs alongside a Jupyter server instead of over it. Therefore, it needs its own local address."
   ]
  },
  {
   "cell_type": "code",
   "execution_count": 2,
   "id": "9205dda6-dd4b-477e-a4ce-dd8eb66e70de",
   "metadata": {},
   "outputs": [],
   "source": [
    "HOST = '127.0.0.1'\n",
    "PORT = 8889"
   ]
  },
  {
   "cell_type": "markdown",
   "id": "bfa045eb-3306-46a8-abec-9640a02622ce",
   "metadata": {},
   "source": [
    "The asynchronous [start function](https://jupyter-jchannel.readthedocs.io/en/latest/jchannel.html#jchannel.start) instantiates a server, starts this server and returns it."
   ]
  },
  {
   "cell_type": "code",
   "execution_count": null,
   "id": "017f3c4f-cd04-44c0-9c80-f5f59f0630cc",
   "metadata": {
    "editable": true,
    "slideshow": {
     "slide_type": ""
    },
    "tags": []
   },
   "outputs": [],
   "source": [
    "server = await jchannel.start(host=HOST, port=PORT)"
   ]
  },
  {
   "cell_type": "markdown",
   "id": "6add27ec-c212-4610-b48d-b983f2f775a2",
   "metadata": {},
   "source": [
    "## Opening a channel"
   ]
  },
  {
   "cell_type": "markdown",
   "id": "017ee1fe-1e92-4a32-bdae-417843b77b8b",
   "metadata": {},
   "source": [
    "A [server channel](https://jupyter-jchannel.readthedocs.io/en/latest/jchannel.channel.html#jchannel.channel.Channel) uses a server to call frontend JavaScript code from kernel Python code. The asynchronous [open method](https://jupyter-jchannel.readthedocs.io/en/latest/jchannel.server.html#jchannel.server.Server.open) instantiates a channel, opens this channel and returns it.\n",
    "\n",
    "This method receives a string representing a JavaScript function. This function should receive a [client representation of the same channel](https://hashiprobr.github.io/jupyter-jchannel-client/Channel.html) and initialize it. The most important part of this initialization is setting the `handler` property to an object. The methods of this object define the API at the frontend.\n",
    "\n",
    "The example below sets `handler` to an object that wraps the [padStart](https://developer.mozilla.org/docs/Web/JavaScript/Reference/Global_Objects/String/padStart) and [padEnd](https://developer.mozilla.org/docs/Web/JavaScript/Reference/Global_Objects/String/padEnd) string methods to provide indentation utilities."
   ]
  },
  {
   "cell_type": "code",
   "execution_count": 4,
   "id": "cbb35f25-3a2f-4c63-9413-0dfef99da49e",
   "metadata": {},
   "outputs": [],
   "source": [
    "channel1 = await server.open('''\n",
    "    (channel) => {\n",
    "        channel.handler = {\n",
    "            indentLeft(line, count) {\n",
    "                return line.padStart(line.length + count);\n",
    "            },\n",
    "            indentRight(line, count) {\n",
    "                return line.padEnd(line.length + count);\n",
    "            },\n",
    "        };\n",
    "    }\n",
    "''')"
   ]
  },
  {
   "cell_type": "markdown",
   "id": "307f5b17-7fcc-4735-a041-5b93b5c90b54",
   "metadata": {},
   "source": [
    "And that's it! You can now call any method of this API from the notebook."
   ]
  },
  {
   "cell_type": "markdown",
   "id": "064eb1a6-dd58-4a23-b90d-ff846f3ae457",
   "metadata": {},
   "source": [
    "## Calling the methods"
   ]
  },
  {
   "cell_type": "markdown",
   "id": "10a89f70-134e-43a5-8eaa-a018b44afcb6",
   "metadata": {},
   "source": [
    "The [call method](https://jupyter-jchannel.readthedocs.io/en/latest/jchannel.channel.html#jchannel.channel.Channel.call) returns a [task](https://docs.python.org/3/library/asyncio-task.html#asyncio.Task) that can be awaited to retrieve the result whenever you want."
   ]
  },
  {
   "cell_type": "code",
   "execution_count": 5,
   "id": "e8b41e70-a920-4992-b2d5-5c12f43fb8ef",
   "metadata": {},
   "outputs": [],
   "source": [
    "taskA = channel1.call('indentLeft', 'hello', 4)\n",
    "taskB = channel1.call('indentRight', 'world', 4)"
   ]
  },
  {
   "cell_type": "code",
   "execution_count": 6,
   "id": "d7ed0f50-b760-41cb-a65a-e3c68aba6bab",
   "metadata": {},
   "outputs": [],
   "source": [
    "# some code you want to run before retrieving the results"
   ]
  },
  {
   "cell_type": "code",
   "execution_count": 7,
   "id": "88a5d536-1315-4169-9201-53d833e93cce",
   "metadata": {},
   "outputs": [
    {
     "data": {
      "text/plain": [
       "'world    '"
      ]
     },
     "execution_count": 7,
     "metadata": {},
     "output_type": "execute_result"
    }
   ],
   "source": [
    "await taskB"
   ]
  },
  {
   "cell_type": "code",
   "execution_count": 8,
   "id": "b42061ec-6ec2-435c-94e9-53889cadb4fe",
   "metadata": {},
   "outputs": [
    {
     "data": {
      "text/plain": [
       "'    hello'"
      ]
     },
     "execution_count": 8,
     "metadata": {},
     "output_type": "execute_result"
    }
   ],
   "source": [
    "await taskA"
   ]
  },
  {
   "cell_type": "markdown",
   "id": "b1237408-f4c7-41a2-8191-d3ef9b58ca90",
   "metadata": {},
   "source": [
    "In particular, awaiting immediately ensures synchronous execution, without the\n",
    "need for sleeping and/or polling."
   ]
  },
  {
   "cell_type": "code",
   "execution_count": 9,
   "id": "d05903ac-cd3a-425d-b8d7-77749276117b",
   "metadata": {},
   "outputs": [
    {
     "data": {
      "text/plain": [
       "'    hello'"
      ]
     },
     "execution_count": 9,
     "metadata": {},
     "output_type": "execute_result"
    }
   ],
   "source": [
    "await channel1.call('indentLeft', 'hello', 4)"
   ]
  },
  {
   "cell_type": "markdown",
   "id": "906e9fde-9de5-4467-8870-367cc1355564",
   "metadata": {},
   "source": [
    "Furthermore, if the frontend throws a JavaScript exception, the task wraps it into a Python exception."
   ]
  },
  {
   "cell_type": "code",
   "execution_count": 10,
   "id": "bf453d52-c679-45a2-a63b-5b90486906da",
   "metadata": {},
   "outputs": [
    {
     "ename": "FrontendError",
     "evalue": "TypeError: line.padEnd is not a function",
     "output_type": "error",
     "traceback": [
      "\u001b[0;31m---------------------------------------------------------------------------\u001b[0m",
      "\u001b[0;31mFrontendError\u001b[0m                             Traceback (most recent call last)",
      "Cell \u001b[0;32mIn[10], line 1\u001b[0m\n\u001b[0;32m----> 1\u001b[0m \u001b[38;5;28;01mawait\u001b[39;00m channel1\u001b[38;5;241m.\u001b[39mcall(\u001b[38;5;124m'\u001b[39m\u001b[38;5;124mindentRight\u001b[39m\u001b[38;5;124m'\u001b[39m, \u001b[38;5;241m4\u001b[39m, \u001b[38;5;124m'\u001b[39m\u001b[38;5;124mworld\u001b[39m\u001b[38;5;124m'\u001b[39m) \u001b[38;5;66;03m# arguments in wrong order\u001b[39;00m\n",
      "File \u001b[0;32mjchannel/channel.py:208\u001b[0m, in \u001b[0;36mChannel._call\u001b[0;34m(self, name, args, stream, timeout)\u001b[0m\n\u001b[1;32m    207\u001b[0m \u001b[38;5;28;01masync\u001b[39;00m \u001b[38;5;28;01mdef\u001b[39;00m \u001b[38;5;21m_call\u001b[39m(\u001b[38;5;28mself\u001b[39m, name, args, stream, timeout):\n\u001b[0;32m--> 208\u001b[0m     \u001b[38;5;28;01mreturn\u001b[39;00m \u001b[38;5;28;01mawait\u001b[39;00m \u001b[38;5;28mself\u001b[39m\u001b[38;5;241m.\u001b[39m_send(\u001b[38;5;124m'\u001b[39m\u001b[38;5;124mcall\u001b[39m\u001b[38;5;124m'\u001b[39m, {\u001b[38;5;124m'\u001b[39m\u001b[38;5;124mname\u001b[39m\u001b[38;5;124m'\u001b[39m: name, \u001b[38;5;124m'\u001b[39m\u001b[38;5;124margs\u001b[39m\u001b[38;5;124m'\u001b[39m: args}, stream, timeout)\n",
      "File \u001b[0;32mjchannel/channel.py:214\u001b[0m, in \u001b[0;36mChannel._send\u001b[0;34m(self, body_type, input, stream, timeout)\u001b[0m\n\u001b[1;32m    211\u001b[0m future \u001b[38;5;241m=\u001b[39m \u001b[38;5;28;01mawait\u001b[39;00m \u001b[38;5;28mself\u001b[39m\u001b[38;5;241m.\u001b[39m_server\u001b[38;5;241m.\u001b[39m_send(body_type, \u001b[38;5;28mid\u001b[39m(\u001b[38;5;28mself\u001b[39m), \u001b[38;5;28minput\u001b[39m, stream, timeout)\n\u001b[1;32m    213\u001b[0m \u001b[38;5;28;01mtry\u001b[39;00m:\n\u001b[0;32m--> 214\u001b[0m     \u001b[38;5;28;01mreturn\u001b[39;00m \u001b[38;5;28;01mawait\u001b[39;00m future\n\u001b[1;32m    215\u001b[0m \u001b[38;5;28;01mexcept\u001b[39;00m StateError:\n\u001b[1;32m    216\u001b[0m     \u001b[38;5;28;01mif\u001b[39;00m stream \u001b[38;5;129;01mis\u001b[39;00m \u001b[38;5;28;01mNone\u001b[39;00m:\n",
      "\u001b[0;31mFrontendError\u001b[0m: TypeError: line.padEnd is not a function"
     ]
    }
   ],
   "source": [
    "await channel1.call('indentRight', 4, 'world') # arguments in wrong order"
   ]
  },
  {
   "cell_type": "markdown",
   "id": "fa7da08b-37e8-4692-80c2-16b5de3cf50f",
   "metadata": {},
   "source": [
    "## Example 2: calling kernel from frontend"
   ]
  },
  {
   "cell_type": "markdown",
   "id": "f8b7290a-7d63-4b8e-95c6-999ec48c4ba4",
   "metadata": {},
   "source": [
    "If you want to call kernel Python code from frontend JavaScript code, the first part is storing the client representation of the channel in order to retrieve it later.\n",
    "\n",
    "The example below simply stores it as a global variable."
   ]
  },
  {
   "cell_type": "code",
   "execution_count": 11,
   "id": "e3fbbf05-1609-4373-9373-1d5cf7f47f8d",
   "metadata": {},
   "outputs": [],
   "source": [
    "channel2 = await server.open('''\n",
    "    (channel) => {\n",
    "        self.channel2 = channel;\n",
    "    }\n",
    "''')"
   ]
  },
  {
   "cell_type": "markdown",
   "id": "7defc964-00b0-4c28-ba75-2ce5da3e2ab5",
   "metadata": {},
   "source": [
    "The second part is setting the `handler` property to an object. The methods of this object define the API at the kernel."
   ]
  },
  {
   "cell_type": "code",
   "execution_count": 12,
   "id": "e4ee9dff-c941-4ee5-afd2-5f91549c21a7",
   "metadata": {},
   "outputs": [],
   "source": [
    "class Handler:\n",
    "    def multiply(self, a, b):\n",
    "        return a * b\n",
    "\n",
    "    def divide(self, a, b):\n",
    "        return a / b"
   ]
  },
  {
   "cell_type": "code",
   "execution_count": 13,
   "id": "37da19eb-5d7d-4e3c-9542-dc5a15d1b675",
   "metadata": {},
   "outputs": [],
   "source": [
    "channel2.handler = Handler()"
   ]
  },
  {
   "cell_type": "markdown",
   "id": "1a15c4e3-a3f6-47eb-a16e-78f5d8b18623",
   "metadata": {},
   "source": [
    "And that's it! You can now call any method of this API from the console."
   ]
  },
  {
   "cell_type": "markdown",
   "id": "9bb5debe-16b4-477f-8e17-0aca32a49b06",
   "metadata": {},
   "source": [
    "![](https://raw.githubusercontent.com/hashiprobr/jupyter-jchannel/main/docs/images/console_capture_2.png)"
   ]
  },
  {
   "cell_type": "markdown",
   "id": "7b4b6ae7-111b-4329-aca7-1436e6235723",
   "metadata": {},
   "source": [
    "## Example 3: binary streams"
   ]
  },
  {
   "cell_type": "markdown",
   "id": "ecb4bc0a-d7cd-44cf-8213-69f2b97e332a",
   "metadata": {},
   "source": [
    "Now, suppose you want to send a binary stream as an argument. For example, the bytes of a text file."
   ]
  },
  {
   "cell_type": "code",
   "execution_count": 14,
   "id": "2bb5bd78-ee4e-48c0-9ff5-1166c0d14166",
   "metadata": {},
   "outputs": [
    {
     "name": "stdout",
     "output_type": "stream",
     "text": [
      "Lorem ipsum dolor sit amet,\n",
      "consectetur adipiscing elit,\n",
      "sed do eiusmod tempor incididunt\n",
      "ut labore et dolore magna aliqua.\n",
      "\n"
     ]
    }
   ],
   "source": [
    "with open('loremipsum.txt') as file:\n",
    "    print(file.read())"
   ]
  },
  {
   "cell_type": "markdown",
   "id": "ac4421e0-e13b-425c-90a6-0c26d8045018",
   "metadata": {},
   "source": [
    "The example below defines an async method that receives an async iterable of `Uint8Arrays` and returns the total of bytes."
   ]
  },
  {
   "cell_type": "code",
   "execution_count": 15,
   "id": "51cd4453-2e62-4d3e-a517-3001ff965b85",
   "metadata": {},
   "outputs": [],
   "source": [
    "channel3 = await server.open('''\n",
    "    (channel) => {\n",
    "        channel.handler = {\n",
    "\n",
    "            async len(stream) {\n",
    "                let total = 0;\n",
    "\n",
    "                for await (const chunk of stream) {\n",
    "                    total += chunk.length;\n",
    "                }\n",
    "\n",
    "                return total;\n",
    "            },\n",
    "\n",
    "        };\n",
    "    }\n",
    "''')"
   ]
  },
  {
   "cell_type": "markdown",
   "id": "7ab5100a-0543-463a-904d-82b619c56f73",
   "metadata": {},
   "source": [
    "You cannot use `call` in this case, but you can use [call_with_stream](https://jupyter-jchannel.readthedocs.io/en/latest/jchannel.channel.html#jchannel.channel.Channel.call_with_stream). It's a version that sends an async iterable of bytes-like objects as the first argument. For example, an async generator of encoded lines."
   ]
  },
  {
   "cell_type": "code",
   "execution_count": 16,
   "id": "f07043c1-644e-4d58-81d3-fb07ffe77123",
   "metadata": {},
   "outputs": [],
   "source": [
    "async def input_stream():\n",
    "    with open('loremipsum.txt') as file:\n",
    "        for line in file:\n",
    "            yield line.encode()"
   ]
  },
  {
   "cell_type": "code",
   "execution_count": 17,
   "id": "41760c5e-5a9a-44d1-ad37-1b62c7efd298",
   "metadata": {},
   "outputs": [
    {
     "data": {
      "text/plain": [
       "124"
      ]
     },
     "execution_count": 17,
     "metadata": {},
     "output_type": "execute_result"
    }
   ],
   "source": [
    "await channel3.call_with_stream('len', input_stream())"
   ]
  },
  {
   "cell_type": "markdown",
   "id": "c3fb6cb9-e02e-4e56-860b-f2230af1a4ca",
   "metadata": {},
   "source": [
    "What's more, you can receive a binary stream as the return value!\n",
    "\n",
    "The example below defines an async generator method that decodes the received bytes, converts the corresponding characters to uppercase, encodes the converted characters and yields them."
   ]
  },
  {
   "cell_type": "code",
   "execution_count": 18,
   "id": "3c612948-d464-44ed-bf95-5f5e991320b6",
   "metadata": {},
   "outputs": [],
   "source": [
    "channel4 = await server.open('''\n",
    "    (channel) => {\n",
    "        channel.handler = {\n",
    "\n",
    "            async * upper(stream) {\n",
    "                const decoder = new TextDecoder();\n",
    "                const encoder = new TextEncoder();\n",
    "\n",
    "                for await (const chunk of stream) {\n",
    "                    const line = decoder.decode(chunk);\n",
    "                    yield encoder.encode(line.toUpperCase());\n",
    "                }\n",
    "            },\n",
    "\n",
    "        };\n",
    "    }\n",
    "''')"
   ]
  },
  {
   "cell_type": "markdown",
   "id": "0790ee1e-4914-4286-a54d-38fb89b54b94",
   "metadata": {},
   "source": [
    "In this case, both `call` and `call_with_stream` receive an async iterable of bytes objects as the return value."
   ]
  },
  {
   "cell_type": "code",
   "execution_count": 19,
   "id": "8b3afcbe-2d24-495b-9e67-cc2c2c38d9a9",
   "metadata": {},
   "outputs": [],
   "source": [
    "output_stream = await channel4.call_with_stream('upper', input_stream())"
   ]
  },
  {
   "cell_type": "code",
   "execution_count": 20,
   "id": "79d7b736-182d-4fe7-a824-0f61926eb212",
   "metadata": {},
   "outputs": [
    {
     "name": "stdout",
     "output_type": "stream",
     "text": [
      "LOREM IPSUM DOLOR SIT AMET,\n",
      "CONSECTETUR ADIPISCING ELIT,\n",
      "SED DO EIUSMOD TEMPOR INCIDIDUNT\n",
      "UT LABORE ET DOLORE MAGNA ALIQUA.\n",
      "\n"
     ]
    }
   ],
   "source": [
    "async for chunk in output_stream:\n",
    "    print(chunk.decode())"
   ]
  }
 ],
 "metadata": {
  "kernelspec": {
   "display_name": "Python 3 (ipykernel)",
   "language": "python",
   "name": "python3"
  },
  "language_info": {
   "codemirror_mode": {
    "name": "ipython",
    "version": 3
   },
   "file_extension": ".py",
   "mimetype": "text/x-python",
   "name": "python",
   "nbconvert_exporter": "python",
   "pygments_lexer": "ipython3",
   "version": "3.10.14"
  },
  "widgets": {
   "application/vnd.jupyter.widget-state+json": {
    "state": {},
    "version_major": 2,
    "version_minor": 0
   }
  }
 },
 "nbformat": 4,
 "nbformat_minor": 5
}
