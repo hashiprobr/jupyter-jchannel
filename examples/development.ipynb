{
 "cells": [
  {
   "cell_type": "code",
   "execution_count": null,
   "id": "c5cdf47e-c87f-4420-a6fc-9fc1c69ed03f",
   "metadata": {},
   "outputs": [],
   "source": [
    "import os\n",
    "import jchannel"
   ]
  },
  {
   "cell_type": "code",
   "execution_count": null,
   "id": "69c1e950-0865-4a7d-8409-a0a8a343b773",
   "metadata": {},
   "outputs": [],
   "source": [
    "os.environ['JCHANNEL_CLIENT_URL'] = 'http://localhost:8080/main.js'"
   ]
  },
  {
   "cell_type": "code",
   "execution_count": null,
   "id": "017f3c4f-cd04-44c0-9c80-f5f59f0630cc",
   "metadata": {
    "editable": true,
    "slideshow": {
     "slide_type": ""
    },
    "tags": []
   },
   "outputs": [],
   "source": [
    "server = await jchannel.start()"
   ]
  },
  {
   "cell_type": "code",
   "execution_count": null,
   "id": "cbb35f25-3a2f-4c63-9413-0dfef99da49e",
   "metadata": {},
   "outputs": [],
   "source": [
    "channel = await server.open('''\n",
    "    (channel) => {\n",
    "        channel.handler = {\n",
    "            indent(line, count) {\n",
    "                return line.padStart(line.length + count);\n",
    "            }\n",
    "        };\n",
    "    }\n",
    "''')"
   ]
  },
  {
   "cell_type": "code",
   "execution_count": null,
   "id": "e8b41e70-a920-4992-b2d5-5c12f43fb8ef",
   "metadata": {},
   "outputs": [],
   "source": [
    "await channel.call('indent', 'return', 4)"
   ]
  },
  {
   "cell_type": "code",
   "execution_count": null,
   "id": "bf453d52-c679-45a2-a63b-5b90486906da",
   "metadata": {},
   "outputs": [],
   "source": [
    "await channel.call('indent', 4, 'return')"
   ]
  },
  {
   "cell_type": "markdown",
   "id": "eb712a6d-3912-413e-b9e0-45ded2c18a83",
   "metadata": {},
   "source": [
    "EOF"
   ]
  }
 ],
 "metadata": {
  "kernelspec": {
   "display_name": "Python 3 (ipykernel)",
   "language": "python",
   "name": "python3"
  },
  "language_info": {
   "codemirror_mode": {
    "name": "ipython",
    "version": 3
   },
   "file_extension": ".py",
   "mimetype": "text/x-python",
   "name": "python",
   "nbconvert_exporter": "python",
   "pygments_lexer": "ipython3",
   "version": "3.10.14"
  },
  "widgets": {
   "application/vnd.jupyter.widget-state+json": {
    "state": {},
    "version_major": 2,
    "version_minor": 0
   }
  }
 },
 "nbformat": 4,
 "nbformat_minor": 5
}
