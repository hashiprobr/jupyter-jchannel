{
 "cells": [
  {
   "cell_type": "code",
   "execution_count": null,
   "id": "8b36e24f-6ee7-4873-b2f0-8558249bd44d",
   "metadata": {},
   "outputs": [],
   "source": [
    "import os"
   ]
  },
  {
   "cell_type": "code",
   "execution_count": null,
   "id": "b4f73261-77d4-4586-9b08-83e8a7a3d403",
   "metadata": {},
   "outputs": [],
   "source": [
    "os.environ['JCHANNEL_CLIENT_URL'] = 'http://localhost:8080/main.js'"
   ]
  },
  {
   "cell_type": "code",
   "execution_count": null,
   "id": "c5cdf47e-c87f-4420-a6fc-9fc1c69ed03f",
   "metadata": {},
   "outputs": [],
   "source": [
    "import jchannel"
   ]
  },
  {
   "cell_type": "code",
   "execution_count": null,
   "id": "0c9ebf19-a110-4120-aaeb-53c90f37dba5",
   "metadata": {},
   "outputs": [],
   "source": [
    "HOST = '127.0.0.1'\n",
    "PORT = 8889"
   ]
  },
  {
   "cell_type": "code",
   "execution_count": null,
   "id": "017f3c4f-cd04-44c0-9c80-f5f59f0630cc",
   "metadata": {
    "editable": true,
    "slideshow": {
     "slide_type": ""
    },
    "tags": []
   },
   "outputs": [],
   "source": [
    "server = await jchannel.start(host=HOST, port=PORT)"
   ]
  },
  {
   "cell_type": "code",
   "execution_count": null,
   "id": "cbb35f25-3a2f-4c63-9413-0dfef99da49e",
   "metadata": {},
   "outputs": [],
   "source": [
    "channel = await server.open('''\n",
    "    (channel) => {\n",
    "        channel.handler = {\n",
    "            indentLeft(line, count) {\n",
    "                return line.padStart(line.length + count);\n",
    "            },\n",
    "            indentRight(line, count) {\n",
    "                return line.padEnd(line.length + count);\n",
    "            },\n",
    "        };\n",
    "        self.channel = channel;\n",
    "    }\n",
    "''')"
   ]
  },
  {
   "cell_type": "code",
   "execution_count": null,
   "id": "e8b41e70-a920-4992-b2d5-5c12f43fb8ef",
   "metadata": {},
   "outputs": [],
   "source": [
    "await channel.call('indentLeft', 'hello', 4)"
   ]
  },
  {
   "cell_type": "code",
   "execution_count": null,
   "id": "bf453d52-c679-45a2-a63b-5b90486906da",
   "metadata": {},
   "outputs": [],
   "source": [
    "await channel.call('indentRight', 4, 'world')"
   ]
  },
  {
   "cell_type": "code",
   "execution_count": null,
   "id": "bce4764e-6237-4f74-943f-69ab3b21f7c1",
   "metadata": {},
   "outputs": [],
   "source": [
    "class Handler:\n",
    "    def multiply(self, a, b):\n",
    "        return a * b\n",
    "\n",
    "    def divide(self, a, b):\n",
    "        return a / b"
   ]
  },
  {
   "cell_type": "code",
   "execution_count": null,
   "id": "6ed481d5-9815-4fbd-972b-fd835b09223a",
   "metadata": {},
   "outputs": [],
   "source": [
    "channel.handler = Handler()"
   ]
  },
  {
   "cell_type": "markdown",
   "id": "f320b357-7908-4dcb-8702-69c3d608b341",
   "metadata": {},
   "source": [
    "``` js\n",
    "await channel.call('multiply', 3, 2);\n",
    "```"
   ]
  },
  {
   "cell_type": "markdown",
   "id": "bb93fa30-fe0a-4f3c-ae94-c285be507b3f",
   "metadata": {},
   "source": [
    "``` js\n",
    "await channel.call('divide', 1, 0);\n",
    "```"
   ]
  }
 ],
 "metadata": {
  "kernelspec": {
   "display_name": "Python 3 (ipykernel)",
   "language": "python",
   "name": "python3"
  },
  "language_info": {
   "codemirror_mode": {
    "name": "ipython",
    "version": 3
   },
   "file_extension": ".py",
   "mimetype": "text/x-python",
   "name": "python",
   "nbconvert_exporter": "python",
   "pygments_lexer": "ipython3",
   "version": "3.10.14"
  },
  "widgets": {
   "application/vnd.jupyter.widget-state+json": {
    "state": {},
    "version_major": 2,
    "version_minor": 0
   }
  }
 },
 "nbformat": 4,
 "nbformat_minor": 5
}
