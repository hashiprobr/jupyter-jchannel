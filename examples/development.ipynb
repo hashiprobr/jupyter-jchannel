{
 "cells": [
  {
   "cell_type": "code",
   "execution_count": 1,
   "id": "c5cdf47e-c87f-4420-a6fc-9fc1c69ed03f",
   "metadata": {},
   "outputs": [],
   "source": [
    "import os\n",
    "import jchannel"
   ]
  },
  {
   "cell_type": "code",
   "execution_count": 2,
   "id": "69c1e950-0865-4a7d-8409-a0a8a343b773",
   "metadata": {},
   "outputs": [],
   "source": [
    "os.environ['JCHANNEL_CLIENT_URL'] = 'http://localhost:8080/main.js'"
   ]
  },
  {
   "cell_type": "code",
   "execution_count": 3,
   "id": "0c9ebf19-a110-4120-aaeb-53c90f37dba5",
   "metadata": {},
   "outputs": [],
   "source": [
    "HOST = '127.0.0.1'\n",
    "PORT = 8889"
   ]
  },
  {
   "cell_type": "code",
   "execution_count": null,
   "id": "017f3c4f-cd04-44c0-9c80-f5f59f0630cc",
   "metadata": {
    "editable": true,
    "slideshow": {
     "slide_type": ""
    },
    "tags": []
   },
   "outputs": [],
   "source": [
    "server = await jchannel.start(host=HOST, port=PORT)"
   ]
  },
  {
   "cell_type": "code",
   "execution_count": 5,
   "id": "cbb35f25-3a2f-4c63-9413-0dfef99da49e",
   "metadata": {},
   "outputs": [],
   "source": [
    "channel = await server.open('''\n",
    "    (channel) => {\n",
    "        channel.handler = {\n",
    "            indent(line, count) {\n",
    "                return line.padStart(line.length + count);\n",
    "            }\n",
    "        };\n",
    "        self.channel = channel;\n",
    "    }\n",
    "''')"
   ]
  },
  {
   "cell_type": "code",
   "execution_count": 7,
   "id": "e8b41e70-a920-4992-b2d5-5c12f43fb8ef",
   "metadata": {},
   "outputs": [
    {
     "data": {
      "text/plain": [
       "'    return'"
      ]
     },
     "execution_count": 7,
     "metadata": {},
     "output_type": "execute_result"
    }
   ],
   "source": [
    "await channel.call('indent', 'return', 4)"
   ]
  },
  {
   "cell_type": "code",
   "execution_count": 8,
   "id": "bf453d52-c679-45a2-a63b-5b90486906da",
   "metadata": {},
   "outputs": [
    {
     "ename": "JavascriptError",
     "evalue": "TypeError: line.padStart is not a function",
     "output_type": "error",
     "traceback": [
      "\u001b[0;31m---------------------------------------------------------------------------\u001b[0m",
      "\u001b[0;31mJavascriptError\u001b[0m                           Traceback (most recent call last)",
      "Cell \u001b[0;32mIn[8], line 1\u001b[0m\n\u001b[0;32m----> 1\u001b[0m \u001b[38;5;28;01mawait\u001b[39;00m channel\u001b[38;5;241m.\u001b[39mcall(\u001b[38;5;124m'\u001b[39m\u001b[38;5;124mindent\u001b[39m\u001b[38;5;124m'\u001b[39m, \u001b[38;5;241m4\u001b[39m, \u001b[38;5;124m'\u001b[39m\u001b[38;5;124mreturn\u001b[39m\u001b[38;5;124m'\u001b[39m)\n",
      "File \u001b[0;32m~/Dropbox/Projetos/jupyter/jchannel/jchannel/channel.py:171\u001b[0m, in \u001b[0;36mChannel._call\u001b[0;34m(self, name, args, timeout)\u001b[0m\n\u001b[1;32m    170\u001b[0m \u001b[38;5;28;01masync\u001b[39;00m \u001b[38;5;28;01mdef\u001b[39;00m \u001b[38;5;21m_call\u001b[39m(\u001b[38;5;28mself\u001b[39m, name, args, timeout):\n\u001b[0;32m--> 171\u001b[0m     \u001b[38;5;28;01mreturn\u001b[39;00m \u001b[38;5;28;01mawait\u001b[39;00m \u001b[38;5;28mself\u001b[39m\u001b[38;5;241m.\u001b[39m_send(\u001b[38;5;124m'\u001b[39m\u001b[38;5;124mcall\u001b[39m\u001b[38;5;124m'\u001b[39m, {\u001b[38;5;124m'\u001b[39m\u001b[38;5;124mname\u001b[39m\u001b[38;5;124m'\u001b[39m: name, \u001b[38;5;124m'\u001b[39m\u001b[38;5;124margs\u001b[39m\u001b[38;5;124m'\u001b[39m: args}, \u001b[38;5;28;01mNone\u001b[39;00m, \u001b[38;5;28;01mNone\u001b[39;00m, timeout)\n",
      "File \u001b[0;32m~/Dropbox/Projetos/jupyter/jchannel/jchannel/channel.py:180\u001b[0m, in \u001b[0;36mChannel._send\u001b[0;34m(self, body_type, input, producer, consumer, timeout)\u001b[0m\n\u001b[1;32m    177\u001b[0m future \u001b[38;5;241m=\u001b[39m \u001b[38;5;28;01mawait\u001b[39;00m \u001b[38;5;28mself\u001b[39m\u001b[38;5;241m.\u001b[39m_server\u001b[38;5;241m.\u001b[39m_send(body_type, \u001b[38;5;28mid\u001b[39m(\u001b[38;5;28mself\u001b[39m), \u001b[38;5;28minput\u001b[39m, producer, consumer, timeout)\n\u001b[1;32m    179\u001b[0m \u001b[38;5;28;01mtry\u001b[39;00m:\n\u001b[0;32m--> 180\u001b[0m     \u001b[38;5;28;01mreturn\u001b[39;00m \u001b[38;5;28;01mawait\u001b[39;00m future\n\u001b[1;32m    181\u001b[0m \u001b[38;5;28;01mexcept\u001b[39;00m StateError:\n\u001b[1;32m    182\u001b[0m     logging\u001b[38;5;241m.\u001b[39mwarning(\u001b[38;5;124m'\u001b[39m\u001b[38;5;124mChannel is closed: trying to open...\u001b[39m\u001b[38;5;124m'\u001b[39m)\n",
      "\u001b[0;31mJavascriptError\u001b[0m: TypeError: line.padStart is not a function"
     ]
    }
   ],
   "source": [
    "await channel.call('indent', 4, 'return')"
   ]
  },
  {
   "cell_type": "code",
   "execution_count": 6,
   "id": "bce4764e-6237-4f74-943f-69ab3b21f7c1",
   "metadata": {},
   "outputs": [],
   "source": [
    "class Handler:\n",
    "    def divide(self, a, b):\n",
    "        return a / b\n",
    "\n",
    "channel.handler = Handler()"
   ]
  },
  {
   "cell_type": "markdown",
   "id": "f320b357-7908-4dcb-8702-69c3d608b341",
   "metadata": {},
   "source": [
    "``` js\n",
    "await channel.call('divide', 1, 2);\n",
    "```"
   ]
  },
  {
   "cell_type": "markdown",
   "id": "bb93fa30-fe0a-4f3c-ae94-c285be507b3f",
   "metadata": {},
   "source": [
    "``` js\n",
    "await channel.call('divide', 1, 0);\n",
    "```"
   ]
  }
 ],
 "metadata": {
  "kernelspec": {
   "display_name": "Python 3 (ipykernel)",
   "language": "python",
   "name": "python3"
  },
  "language_info": {
   "codemirror_mode": {
    "name": "ipython",
    "version": 3
   },
   "file_extension": ".py",
   "mimetype": "text/x-python",
   "name": "python",
   "nbconvert_exporter": "python",
   "pygments_lexer": "ipython3",
   "version": "3.10.14"
  },
  "widgets": {
   "application/vnd.jupyter.widget-state+json": {
    "state": {},
    "version_major": 2,
    "version_minor": 0
   }
  }
 },
 "nbformat": 4,
 "nbformat_minor": 5
}
